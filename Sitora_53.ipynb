{
  "nbformat": 4,
  "nbformat_minor": 0,
  "metadata": {
    "colab": {
      "provenance": []
    },
    "kernelspec": {
      "name": "python3",
      "display_name": "Python 3"
    },
    "language_info": {
      "name": "python"
    }
  },
  "cells": [
    {
      "cell_type": "markdown",
      "source": [
        "loading the dataset"
      ],
      "metadata": {
        "id": "b3tCM69fituE"
      }
    },
    {
      "cell_type": "code",
      "execution_count": 1,
      "metadata": {
        "id": "ssWvN1qjiSi6"
      },
      "outputs": [],
      "source": [
        "import pandas as pd\n",
        "\n",
        "data = pd.read_csv('data.csv')"
      ]
    },
    {
      "cell_type": "markdown",
      "source": [
        "data exploration"
      ],
      "metadata": {
        "id": "Hjf5PsnojBB_"
      }
    },
    {
      "cell_type": "code",
      "source": [
        "print(data.head())\n",
        "print(data.info())\n",
        "print(data.describe())\n",
        "print(data.isnull().sum())"
      ],
      "metadata": {
        "colab": {
          "base_uri": "https://localhost:8080/"
        },
        "id": "0xdReBLejANa",
        "outputId": "6a1713cf-4bff-429d-e747-5abbba558bdf"
      },
      "execution_count": 2,
      "outputs": [
        {
          "output_type": "stream",
          "name": "stdout",
          "text": [
            "                                            Sentence Sentiment\n",
            "0  The GeoSolutions technology will leverage Bene...  positive\n",
            "1  $ESI on lows, down $1.50 to $2.50 BK a real po...  negative\n",
            "2  For the last quarter of 2010 , Componenta 's n...  positive\n",
            "3  According to the Finnish-Russian Chamber of Co...   neutral\n",
            "4  The Swedish buyout firm has sold its remaining...   neutral\n",
            "<class 'pandas.core.frame.DataFrame'>\n",
            "RangeIndex: 5842 entries, 0 to 5841\n",
            "Data columns (total 2 columns):\n",
            " #   Column     Non-Null Count  Dtype \n",
            "---  ------     --------------  ----- \n",
            " 0   Sentence   5842 non-null   object\n",
            " 1   Sentiment  5842 non-null   object\n",
            "dtypes: object(2)\n",
            "memory usage: 91.4+ KB\n",
            "None\n",
            "                                                 Sentence Sentiment\n",
            "count                                                5842      5842\n",
            "unique                                               5322         3\n",
            "top     Net sales decreased to EUR 220.5 mn from EUR 4...   neutral\n",
            "freq                                                    2      3130\n",
            "Sentence     0\n",
            "Sentiment    0\n",
            "dtype: int64\n"
          ]
        }
      ]
    },
    {
      "cell_type": "code",
      "source": [
        "print(data['Sentiment'].value_counts())"
      ],
      "metadata": {
        "colab": {
          "base_uri": "https://localhost:8080/"
        },
        "id": "doWaAWodjM6N",
        "outputId": "63d164af-cf8f-4b8c-e40f-87026697aa0d"
      },
      "execution_count": 3,
      "outputs": [
        {
          "output_type": "stream",
          "name": "stdout",
          "text": [
            "Sentiment\n",
            "neutral     3130\n",
            "positive    1852\n",
            "negative     860\n",
            "Name: count, dtype: int64\n"
          ]
        }
      ]
    },
    {
      "cell_type": "markdown",
      "source": [
        "tokenization"
      ],
      "metadata": {
        "id": "ukIOd-v2kk40"
      }
    },
    {
      "cell_type": "code",
      "source": [
        "import nltk\n",
        "from nltk.tokenize import word_tokenize\n",
        "nltk.download('punkt_tab')\n",
        "\n",
        "def tokenize_text(text):\n",
        "    tokens = word_tokenize(text)\n",
        "    return tokens\n",
        "\n",
        "data['Tokens'] = data['Sentence'].apply(tokenize_text)"
      ],
      "metadata": {
        "colab": {
          "base_uri": "https://localhost:8080/"
        },
        "id": "pkwGuJgPjWjB",
        "outputId": "0078c351-daa6-43be-df3a-dedbfa83236d"
      },
      "execution_count": 5,
      "outputs": [
        {
          "output_type": "stream",
          "name": "stderr",
          "text": [
            "[nltk_data] Downloading package punkt_tab to /root/nltk_data...\n",
            "[nltk_data]   Unzipping tokenizers/punkt_tab.zip.\n"
          ]
        }
      ]
    },
    {
      "cell_type": "code",
      "source": [
        "print(data[['Tokens', 'Sentence']].head())"
      ],
      "metadata": {
        "colab": {
          "base_uri": "https://localhost:8080/"
        },
        "id": "anyM-CoCkCh_",
        "outputId": "2440f984-55c9-443f-a15b-69a801970771"
      },
      "execution_count": 7,
      "outputs": [
        {
          "output_type": "stream",
          "name": "stdout",
          "text": [
            "                                              Tokens  \\\n",
            "0  [The, GeoSolutions, technology, will, leverage...   \n",
            "1  [$, ESI, on, lows, ,, down, $, 1.50, to, $, 2....   \n",
            "2  [For, the, last, quarter, of, 2010, ,, Compone...   \n",
            "3  [According, to, the, Finnish-Russian, Chamber,...   \n",
            "4  [The, Swedish, buyout, firm, has, sold, its, r...   \n",
            "\n",
            "                                            Sentence  \n",
            "0  The GeoSolutions technology will leverage Bene...  \n",
            "1  $ESI on lows, down $1.50 to $2.50 BK a real po...  \n",
            "2  For the last quarter of 2010 , Componenta 's n...  \n",
            "3  According to the Finnish-Russian Chamber of Co...  \n",
            "4  The Swedish buyout firm has sold its remaining...  \n"
          ]
        }
      ]
    },
    {
      "cell_type": "markdown",
      "source": [
        "cleaning"
      ],
      "metadata": {
        "id": "o34y2nXWkh2o"
      }
    },
    {
      "cell_type": "code",
      "source": [
        "import string\n",
        "\n",
        "def clean_tokens(tokens):\n",
        "    cleaned_tokens = []\n",
        "    for token in tokens:\n",
        "        # Removing punctuation and convert to lowercase\n",
        "        cleaned_token = token.lower().translate(str.maketrans('', '', string.punctuation))\n",
        "        if cleaned_token:\n",
        "            cleaned_tokens.append(cleaned_token)\n",
        "    return cleaned_tokens\n",
        "\n",
        "data['cleaned_tokens'] = data['Tokens'].apply(clean_tokens)\n",
        "print(data[['Tokens', 'cleaned_tokens']].head())"
      ],
      "metadata": {
        "colab": {
          "base_uri": "https://localhost:8080/"
        },
        "id": "hpF55LskkVen",
        "outputId": "063a0809-f22c-4a27-f16b-312a92f1f24d"
      },
      "execution_count": 9,
      "outputs": [
        {
          "output_type": "stream",
          "name": "stdout",
          "text": [
            "                                              Tokens  \\\n",
            "0  [The, GeoSolutions, technology, will, leverage...   \n",
            "1  [$, ESI, on, lows, ,, down, $, 1.50, to, $, 2....   \n",
            "2  [For, the, last, quarter, of, 2010, ,, Compone...   \n",
            "3  [According, to, the, Finnish-Russian, Chamber,...   \n",
            "4  [The, Swedish, buyout, firm, has, sold, its, r...   \n",
            "\n",
            "                                      cleaned_tokens  \n",
            "0  [the, geosolutions, technology, will, leverage...  \n",
            "1  [esi, on, lows, down, 150, to, 250, bk, a, rea...  \n",
            "2  [for, the, last, quarter, of, 2010, componenta...  \n",
            "3  [according, to, the, finnishrussian, chamber, ...  \n",
            "4  [the, swedish, buyout, firm, has, sold, its, r...  \n"
          ]
        }
      ]
    },
    {
      "cell_type": "markdown",
      "source": [
        "normalization(stemming & lemmatization)"
      ],
      "metadata": {
        "id": "RtTZ6_atlBJC"
      }
    },
    {
      "cell_type": "code",
      "source": [
        "from nltk.stem import WordNetLemmatizer\n",
        "\n",
        "nltk.download('wordnet')\n",
        "\n",
        "lemmatizer = WordNetLemmatizer()\n",
        "\n",
        "def lemmatize_tokens(tokens):\n",
        "    return [lemmatizer.lemmatize(token) for token in tokens]\n",
        "\n",
        "data['lemmatized_tokens'] = data['cleaned_tokens'].apply(lemmatize_tokens)\n",
        "print(data[['cleaned_tokens', 'lemmatized_tokens']].head())"
      ],
      "metadata": {
        "colab": {
          "base_uri": "https://localhost:8080/"
        },
        "id": "jlJ4YSc3kyPQ",
        "outputId": "415b8419-8b61-4183-e3b9-e1397948e004"
      },
      "execution_count": 10,
      "outputs": [
        {
          "output_type": "stream",
          "name": "stderr",
          "text": [
            "[nltk_data] Downloading package wordnet to /root/nltk_data...\n"
          ]
        },
        {
          "output_type": "stream",
          "name": "stdout",
          "text": [
            "                                      cleaned_tokens  \\\n",
            "0  [the, geosolutions, technology, will, leverage...   \n",
            "1  [esi, on, lows, down, 150, to, 250, bk, a, rea...   \n",
            "2  [for, the, last, quarter, of, 2010, componenta...   \n",
            "3  [according, to, the, finnishrussian, chamber, ...   \n",
            "4  [the, swedish, buyout, firm, has, sold, its, r...   \n",
            "\n",
            "                                   lemmatized_tokens  \n",
            "0  [the, geosolutions, technology, will, leverage...  \n",
            "1  [esi, on, low, down, 150, to, 250, bk, a, real...  \n",
            "2  [for, the, last, quarter, of, 2010, componenta...  \n",
            "3  [according, to, the, finnishrussian, chamber, ...  \n",
            "4  [the, swedish, buyout, firm, ha, sold, it, rem...  \n"
          ]
        }
      ]
    },
    {
      "cell_type": "markdown",
      "source": [
        "stop word removal"
      ],
      "metadata": {
        "id": "Dj2YqQhNlprS"
      }
    },
    {
      "cell_type": "code",
      "source": [
        "from nltk.corpus import stopwords\n",
        "\n",
        "nltk.download('stopwords')\n",
        "stop_words = set(stopwords.words('english'))\n",
        "\n",
        "def remove_stopwords(tokens):\n",
        "    return [token for token in tokens if token not in stop_words]\n",
        "\n",
        "data['filtered_tokens'] = data['lemmatized_tokens'].apply(remove_stopwords)\n",
        "print(data[['lemmatized_tokens', 'filtered_tokens']].head())"
      ],
      "metadata": {
        "colab": {
          "base_uri": "https://localhost:8080/"
        },
        "id": "tF3MVUiSldQx",
        "outputId": "89e1ba46-a670-4143-a4e4-cf61af118b38"
      },
      "execution_count": 11,
      "outputs": [
        {
          "output_type": "stream",
          "name": "stdout",
          "text": [
            "                                   lemmatized_tokens  \\\n",
            "0  [the, geosolutions, technology, will, leverage...   \n",
            "1  [esi, on, low, down, 150, to, 250, bk, a, real...   \n",
            "2  [for, the, last, quarter, of, 2010, componenta...   \n",
            "3  [according, to, the, finnishrussian, chamber, ...   \n",
            "4  [the, swedish, buyout, firm, ha, sold, it, rem...   \n",
            "\n",
            "                                     filtered_tokens  \n",
            "0  [geosolutions, technology, leverage, benefon, ...  \n",
            "1        [esi, low, 150, 250, bk, real, possibility]  \n",
            "2  [last, quarter, 2010, componenta, net, sale, d...  \n",
            "3  [according, finnishrussian, chamber, commerce,...  \n",
            "4  [swedish, buyout, firm, ha, sold, remaining, 2...  \n"
          ]
        },
        {
          "output_type": "stream",
          "name": "stderr",
          "text": [
            "[nltk_data] Downloading package stopwords to /root/nltk_data...\n",
            "[nltk_data]   Unzipping corpora/stopwords.zip.\n"
          ]
        }
      ]
    },
    {
      "cell_type": "markdown",
      "source": [
        "vectorization"
      ],
      "metadata": {
        "id": "inyzTkwFl62c"
      }
    },
    {
      "cell_type": "code",
      "source": [
        "from sklearn.feature_extraction.text import TfidfVectorizer\n",
        "\n",
        "data['processed_text'] = data['filtered_tokens'].apply(lambda tokens: ' '.join(tokens))\n",
        "\n",
        "vectorizer = TfidfVectorizer(max_features=5000)\n",
        "\n",
        "X = vectorizer.fit_transform(data['processed_text'])\n",
        "\n",
        "y = data['Sentiment']\n",
        "print(X.shape)  # Printing the shape of the vectorized data\n",
        "print(y.shape)  # Printing the shape of the labels"
      ],
      "metadata": {
        "colab": {
          "base_uri": "https://localhost:8080/"
        },
        "id": "JE86Aanpl9hm",
        "outputId": "697f92a7-b3a4-4b2d-8744-9b76728ac2aa"
      },
      "execution_count": 13,
      "outputs": [
        {
          "output_type": "stream",
          "name": "stdout",
          "text": [
            "(5842, 5000)\n",
            "(5842,)\n"
          ]
        }
      ]
    },
    {
      "cell_type": "markdown",
      "source": [
        "model building"
      ],
      "metadata": {
        "id": "b8TPG_1OmbD_"
      }
    },
    {
      "cell_type": "code",
      "source": [
        "from sklearn.model_selection import train_test_split\n",
        "from sklearn.naive_bayes import MultinomialNB\n",
        "from sklearn.metrics import classification_report\n",
        "\n",
        "# Spliltting the data\n",
        "X_train, X_test, y_train, y_test = train_test_split(X, y, test_size=0.2, random_state=42)\n",
        "model = MultinomialNB()\n",
        "\n",
        "model.fit(X_train, y_train)\n",
        "\n",
        "y_pred = model.predict(X_test)\n",
        "\n",
        "# Evaluating the model\n",
        "print(classification_report(y_test, y_pred))"
      ],
      "metadata": {
        "colab": {
          "base_uri": "https://localhost:8080/"
        },
        "id": "CjDVDRNpl-Bc",
        "outputId": "c13ebe7a-4e59-4443-fa1b-7e8281a3e910"
      },
      "execution_count": 16,
      "outputs": [
        {
          "output_type": "stream",
          "name": "stdout",
          "text": [
            "              precision    recall  f1-score   support\n",
            "\n",
            "    negative       0.67      0.06      0.11       175\n",
            "     neutral       0.68      0.94      0.79       622\n",
            "    positive       0.70      0.55      0.62       372\n",
            "\n",
            "    accuracy                           0.68      1169\n",
            "   macro avg       0.68      0.52      0.50      1169\n",
            "weighted avg       0.68      0.68      0.63      1169\n",
            "\n"
          ]
        }
      ]
    },
    {
      "cell_type": "code",
      "source": [
        "import matplotlib.pyplot as plt\n",
        "import seaborn as sns\n",
        "from sklearn.metrics import confusion_matrix\n",
        "\n",
        "# Generate the confusion matrix\n",
        "cm = confusion_matrix(y_test, y_pred)\n",
        "\n",
        "# Plot the confusion matrix using Seaborn\n",
        "plt.figure(figsize=(8, 6))\n",
        "sns.heatmap(cm, annot=True, fmt='d', cmap='Blues',\n",
        "            xticklabels=['Negative', 'Positive'],\n",
        "            yticklabels=['Negative', 'Positive'])\n",
        "plt.title('Confusion Matrix')\n",
        "plt.xlabel('Predicted Label')\n",
        "plt.ylabel('True Label')\n",
        "plt.show()"
      ],
      "metadata": {
        "colab": {
          "base_uri": "https://localhost:8080/",
          "height": 564
        },
        "id": "59xNKySMnD_O",
        "outputId": "70452357-34c4-44ed-d208-5869f6812ad0"
      },
      "execution_count": 17,
      "outputs": [
        {
          "output_type": "display_data",
          "data": {
            "text/plain": [
              "<Figure size 800x600 with 2 Axes>"
            ],
            "image/png": "[encoded data removed]"
          },
          "metadata": {}
        }
      ]
    }
  ]
}